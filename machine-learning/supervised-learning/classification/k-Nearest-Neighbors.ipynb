{
 "cells": [
  {
   "cell_type": "markdown",
   "metadata": {},
   "source": [
    "# K-Nearest Neighbors\n",
    "\n",
    "K-Nearest Neighbors (KNN) is a classification algorithm that determines the category of a data point based on the categories of the closest data points to it.\n",
    "\n",
    "The K-Nearest Neighbors algorithm operates as follows:\n",
    "\n",
    "- **Step 1:** The model initially stores all the training data.\n",
    "- **Step 2:** Next, it computes the distance from the new data point to every point in the dataset.\n",
    "- **Step 3:** It then arranges these data points according to their distance from the new data point.\n",
    "-  **Step 4:** The new data point is classified based on the category of its nearest neighbors, determined by the value of “k.”\n",
    "\n",
    "The choice of k value affects the classification of the new data point. Choosing a very small k value can make the model sensitive to noise and outliers, \n",
    "whereas a very large k value might cause the model to miss smaller, distinct categories in the data.\n",
    "\n",
    "## Example of KNN algorithm"
   ]
  },
  {
   "cell_type": "code",
   "execution_count": null,
   "metadata": {},
   "outputs": [],
   "source": [
    "# Import KNeighborsClassifier\n",
    "from sklearn.neighbors import KNeighborsClassifier\n",
    "\n",
    "y = churn_df[\"churn\"].values\n",
    "X = churn_df[[\"account_length\", \"customer_service_calls\"]].values\n",
    "\n",
    "# Create a KNN classifier with 6 neighbors\n",
    "knn = KNeighborsClassifier(n_neighbors=6)\n",
    "\n",
    "# Fit the classifier to the data\n",
    "knn.fit(X,y)"
   ]
  },
  {
   "cell_type": "code",
   "execution_count": null,
   "metadata": {},
   "outputs": [],
   "source": [
    "# Predict the labels for the X_new\n",
    "y_pred = knn.predict(X_new)\n",
    "\n",
    "# Print the predictions\n",
    "print(\"Predictions: {}\".format(y_pred)) "
   ]
  },
  {
   "cell_type": "markdown",
   "metadata": {},
   "source": [
    "Desajuste (Underfitting)\n",
    "Desajuste ocurre cuando un modelo es demasiado simple para capturar la complejidad de los datos, resultando en un rendimiento deficiente tanto en los datos de entrenamiento como en los de prueba.\n",
    "\n",
    "Sobreajuste (Overfitting)\n",
    "Sobreajuste sucede cuando un modelo es demasiado complejo y se ajusta demasiado a los detalles y el ruido de los datos de entrenamiento, lo que lleva a un rendimiento excelente en los datos de entrenamiento pero malo en los datos de prueba."
   ]
  }
 ],
 "metadata": {
  "language_info": {
   "name": "python"
  }
 },
 "nbformat": 4,
 "nbformat_minor": 2
}

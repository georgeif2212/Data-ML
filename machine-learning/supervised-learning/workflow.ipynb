{
 "cells": [
  {
   "cell_type": "markdown",
   "metadata": {},
   "source": [
    "# Workflow Supervised Machine learning algorithm with Scikit\n",
    "\n",
    "1. Import model from sklearn\n",
    "2. Create an instance from the imported model\n",
    "3. Fit the model from the data \n",
    "4. Make the predictions from the model"
   ]
  },
  {
   "cell_type": "code",
   "execution_count": null,
   "metadata": {},
   "outputs": [],
   "source": [
    "from sklearn.module import Model\n",
    "model = Model() # Instantiate the model\n",
    "model.fit(x,y) # where x is data and y is the target\n",
    "model.predict(x_new) # Create the predictions"
   ]
  }
 ],
 "metadata": {
  "language_info": {
   "name": "python"
  }
 },
 "nbformat": 4,
 "nbformat_minor": 2
}
